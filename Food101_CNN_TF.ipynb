{
  "nbformat": 4,
  "nbformat_minor": 0,
  "metadata": {
    "colab": {
      "provenance": [],
      "authorship_tag": "ABX9TyPDEJorv+xrTvUCW6BoeyrG",
      "include_colab_link": true
    },
    "kernelspec": {
      "name": "python3",
      "display_name": "Python 3"
    },
    "language_info": {
      "name": "python"
    },
    "accelerator": "GPU",
    "gpuClass": "standard"
  },
  "cells": [
    {
      "cell_type": "markdown",
      "metadata": {
        "id": "view-in-github",
        "colab_type": "text"
      },
      "source": [
        "<a href=\"https://colab.research.google.com/github/Xornotor/Food101-CNN-Tensorflow/blob/main/Food101_CNN_TF.ipynb\" target=\"_parent\"><img src=\"https://colab.research.google.com/assets/colab-badge.svg\" alt=\"Open In Colab\"/></a>"
      ]
    },
    {
      "cell_type": "code",
      "execution_count": null,
      "metadata": {
        "id": "sSM1uILHu8bp"
      },
      "outputs": [],
      "source": [
        "import os\n",
        "import numpy as np\n",
        "import tensorflow as tf\n",
        "import matplotlib.pyplot as plt\n",
        "from tensorflow.keras.layers import Input, SeparableConv2D, Conv2D\n",
        "from tensorflow.keras.layers import Flatten, Dense, AvgPool2D, MaxPool2D\n",
        "from tensorflow.keras.layers import BatchNormalization, Normalization, Dropout\n",
        "from tensorflow.keras.layers import Reshape, Resizing, Softmax\n",
        "from tensorflow.keras.losses import SparseCategoricalCrossentropy\n",
        "from tensorflow.keras.metrics import SparseCategoricalAccuracy\n",
        "from tensorflow.keras.models import Sequential, load_model\n",
        "from tensorflow.keras.callbacks import ModelCheckpoint\n",
        "from tensorflow.keras.regularizers import L2\n",
        "from tensorflow.keras.optimizers import SGD, Adam, RMSprop\n",
        "import tensorflow_datasets as tfds\n",
        "from random import randint\n",
        "\n",
        "from google.colab import drive\n",
        "if(not os.path.exists('/content/drive')):\n",
        "  drive.mount('/content/drive')"
      ]
    },
    {
      "cell_type": "code",
      "source": [
        "train_ds, train_info = tfds.load('food101',\n",
        "                            split='train',\n",
        "                            with_info=True,\n",
        "                            shuffle_files=True,\n",
        "                            as_supervised=True,\n",
        "                            batch_size=512\n",
        "                          )\n",
        "\n",
        "val_ds, val_info = tfds.load('food101',\n",
        "                             split='validation',\n",
        "                             with_info=True\n",
        "                          )"
      ],
      "metadata": {
        "id": "Lr3Un3vB3Jap"
      },
      "execution_count": null,
      "outputs": []
    },
    {
      "cell_type": "code",
      "source": [
        "DROPOUT = 0.5\n",
        "REGULARIZATION = 1e-4\n",
        "\n",
        "def create_model():\n",
        "  model = Sequential([\n",
        "      Input((None, None, 3)),\n",
        "      Resizing(256, 256, 'bilinear', True),\n",
        "      Normalization(),\n",
        "      SeparableConv2D(6, 3, padding='same',\n",
        "                      activation='relu',\n",
        "                      kernel_regularizer=L2(REGULARIZATION)),\n",
        "      BatchNormalization(),\n",
        "      SeparableConv2D(12, 3, (2, 2), padding='same',\n",
        "                      activation='relu',\n",
        "                      kernel_regularizer=L2(REGULARIZATION)),\n",
        "      BatchNormalization(),\n",
        "      AvgPool2D((2, 2)),\n",
        "      SeparableConv2D(24, 3, (2, 2), padding='same',\n",
        "                      activation='relu',\n",
        "                      kernel_regularizer=L2(REGULARIZATION)),\n",
        "      BatchNormalization(),\n",
        "      SeparableConv2D(32, 3, padding='same',\n",
        "                      activation='relu',\n",
        "                      kernel_regularizer=L2(REGULARIZATION)),\n",
        "      BatchNormalization(),\n",
        "      AvgPool2D((2, 2)),\n",
        "      SeparableConv2D(96, 3, (2, 2), padding='same',\n",
        "                      activation='relu',\n",
        "                      kernel_regularizer=L2(REGULARIZATION)),\n",
        "      BatchNormalization(),\n",
        "      SeparableConv2D(192, 3, padding='same',\n",
        "                      activation='relu',\n",
        "                      kernel_regularizer=L2(REGULARIZATION)),\n",
        "      BatchNormalization(),\n",
        "      AvgPool2D((2, 2)),\n",
        "      SeparableConv2D(384, 3, (2, 2), padding='same',\n",
        "                      activation='relu',\n",
        "                      kernel_regularizer=L2(REGULARIZATION)),\n",
        "      BatchNormalization(),\n",
        "      SeparableConv2D(512, 3, padding='same',\n",
        "                      activation='relu',\n",
        "                      kernel_regularizer=L2(REGULARIZATION)),\n",
        "      BatchNormalization(),\n",
        "      AvgPool2D((2, 2)),\n",
        "      Flatten(),\n",
        "      Dense(256, activation='relu', kernel_regularizer=L2(REGULARIZATION)),\n",
        "      Dropout(DROPOUT),\n",
        "      BatchNormalization(),\n",
        "      Dense(192, activation='relu', kernel_regularizer=L2(REGULARIZATION)),\n",
        "      Dropout(DROPOUT),\n",
        "      BatchNormalization(),\n",
        "      Dense(128, activation='relu', kernel_regularizer=L2(REGULARIZATION)),\n",
        "      Dropout(DROPOUT),\n",
        "      BatchNormalization(),\n",
        "      Dense(100, activation='relu', kernel_regularizer=L2(REGULARIZATION)),\n",
        "      Dropout(DROPOUT),\n",
        "      BatchNormalization(),\n",
        "      Dense(100, activation='linear', kernel_regularizer=L2(REGULARIZATION)),\n",
        "      BatchNormalization(),\n",
        "      Softmax()\n",
        "  ])\n",
        "\n",
        "  model.compile(optimizer=Adam(learning_rate=3e-3),\n",
        "                loss=SparseCategoricalCrossentropy(from_logits=False),\n",
        "                metrics=[SparseCategoricalAccuracy(), F1Score()])\n",
        "  \n",
        "  return model"
      ],
      "metadata": {
        "id": "xhXiff-f5P8a"
      },
      "execution_count": null,
      "outputs": []
    },
    {
      "cell_type": "code",
      "source": [
        "FoodNet = create_model()\n",
        "FoodNet.summary()"
      ],
      "metadata": {
        "id": "v6-2ozVN7ZI9"
      },
      "execution_count": null,
      "outputs": []
    },
    {
      "cell_type": "code",
      "source": [
        "#model_path = '/content/drive/MyDrive/Colab Notebooks/FoodNet/FoodNet.h5'\n",
        "model_path = '/content/FoodNet.h5'\n",
        "\n",
        "cp_callback = ModelCheckpoint(filepath=model_path,\n",
        "                            save_weights_only=False,\n",
        "                            verbose=1)\n",
        "\n",
        "if(os.path.exists(model_path)):\n",
        "    #FoodNet = load_model(model_path)\n",
        "    pass\n",
        "\n",
        "FoodNet.fit(train_ds,\n",
        "            epochs=3,\n",
        "            validation_data=val_ds,\n",
        "            callbacks=[cp_callback])\n"
      ],
      "metadata": {
        "id": "5IbHj1IO8Cmp"
      },
      "execution_count": null,
      "outputs": []
    }
  ]
}